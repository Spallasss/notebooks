{
 "cells": [
  {
   "cell_type": "code",
   "execution_count": 1,
   "id": "f64db867",
   "metadata": {},
   "outputs": [],
   "source": [
    "import re\n",
    "import os\n",
    "import pandas as pd\n",
    "import numpy as np\n",
    "import traceback2\n",
    "\n",
    "where_map = {}\n",
    "# pairs regexp: \"\\[([a-zA-z0-9$\\-+τ\\.%]*)\\]-\", \"-\\[([a-zA-z0-9$\\-+τ]*)\\]\""
   ]
  },
  {
   "cell_type": "code",
   "execution_count": 2,
   "id": "51555ed2",
   "metadata": {},
   "outputs": [],
   "source": [
    "sm = {\n",
    "    \"WBTC\" : \"BTC\",\n",
    "    \"WETH\" : \"ETH\",\n",
    "    \"WBNB\" : \"BNB\",\n",
    "    \"WFTM\" : \"FTM\",\n",
    "    \"WAVAX\" : \"AVAX\",\n",
    "}\n"
   ]
  },
  {
   "cell_type": "code",
   "execution_count": 3,
   "id": "933c4d21",
   "metadata": {},
   "outputs": [],
   "source": [
    "def pair1(line):\n",
    "    try:\n",
    "        is_3_pairs = line.split(\"]-[\")\n",
    "        if len(is_3_pairs) > 2:\n",
    "            return None\n",
    "        s_index = line.index(\"[\") + 1\n",
    "        s = line[s_index: line.index(\"]\", s_index)]\n",
    "        if all(ord(c) < 128 for c in s):\n",
    "            return s\n",
    "        else:\n",
    "            print(line)\n",
    "            return None\n",
    "    except:\n",
    "        return None\n",
    "\n",
    "def pair2(line):\n",
    "    s_index = line.index(\"-[\") + 3\n",
    "    s = line[s_index: line.index(\"]\", s_index)]\n",
    "    if all(ord(c) < 128 for c in s):\n",
    "        return s\n",
    "    else:\n",
    "        print(line)\n",
    "        return None"
   ]
  },
  {
   "cell_type": "code",
   "execution_count": 4,
   "id": "e9c3f78f",
   "metadata": {},
   "outputs": [],
   "source": [
    "def apr(line):\n",
    "    apr = \"Year [0-9\\,\\.]+\\%\"\n",
    "    x = re.findall(apr, line)\n",
    "    return x[0].replace(\"Year \", \"\").replace(\"%\", \"\").strip() if len(x) else 0"
   ]
  },
  {
   "cell_type": "code",
   "execution_count": 5,
   "id": "4317b4e2",
   "metadata": {},
   "outputs": [],
   "source": [
    "def tvl(line):\n",
    "    tvl = \"TVL: \\$[0-9\\.\\,]+\"\n",
    "    x = re.findall(tvl, line)\n",
    "    return x[0].replace(\"TVL: $\", \"\").replace(\"%\", \"\").replace(\",\",\"\").strip()"
   ]
  },
  {
   "cell_type": "code",
   "execution_count": 6,
   "id": "bb58f319",
   "metadata": {},
   "outputs": [],
   "source": [
    "def where(line):\n",
    "    if 'INFO' in line:\n",
    "        return line.replace(\"INFO\", \"\").replace('\\n', '').replace(\":\", \"\").replace(\"//\", \"://\").strip()\n",
    "    return None"
   ]
  },
  {
   "cell_type": "code",
   "execution_count": 7,
   "id": "8c223a56",
   "metadata": {},
   "outputs": [],
   "source": [
    "def get_single_pair(line):\n",
    "    exp = \"\\d* *.*Price:\"\n",
    "    x = re.findall(exp, line)\n",
    "    if not len(x):\n",
    "#         print(\">>>>>>>>>>>\",line)\n",
    "        return\n",
    "    pair = x[0].replace(\" Price:\", \"\")\n",
    "    return pair[pair.rindex(\" \"):].strip() if \" \" in pair else pair\n",
    "\n",
    "def get_single_tvl(line):\n",
    "    exp = \"\\([0-9\\,\\.$]+\\)\"\n",
    "    x = re.findall(exp, line)\n",
    "    return x[0].replace(\"(\", \"\").replace(\")\", \"\").replace(\"$\", \"\").replace(\",\",\"\").strip()\n"
   ]
  },
  {
   "cell_type": "code",
   "execution_count": 8,
   "id": "04601647",
   "metadata": {},
   "outputs": [],
   "source": [
    "def read_blocks_from_files(file):\n",
    "    f = open(file)\n",
    "    lines = f.readlines()\n",
    "    blocks = []\n",
    "    block = []\n",
    "    for line in lines:\n",
    "        line = line.strip()\n",
    "        if line == \"\" or len(re.findall(\"INFO[ ]+: \", line)):\n",
    "            blocks.append(block)\n",
    "            if len(line):\n",
    "                blocks.append([line])\n",
    "            block = []\n",
    "        else:\n",
    "            block.append(line)\n",
    "    blocks.append(block)\n",
    "    return blocks\n",
    "\n",
    "def get_pair_info_from_block(block, wh, network):\n",
    "    if len(block) == 1:\n",
    "        if 'INFO' in block[0]:\n",
    "            return [where(block[0])]\n",
    "        else:\n",
    "            return [wh]\n",
    "    if len(block) and pair1(block[0]):\n",
    "        apr_index = -1\n",
    "        for index in range(1, len(block)):\n",
    "            if 'APR: ' in block[index]:\n",
    "                apr_index = index\n",
    "                break\n",
    "        return [pair1(block[0]), pair2(block[0]), tvl(block[0]), apr(block[apr_index]) if apr_index > 1 else 0, where_map[wh] if wh in where_map else wh, network]\n",
    "    elif len(block) > 2 and get_single_pair(block[0]):\n",
    "        apr_index = -1\n",
    "        for index in range(1, len(block)):\n",
    "            if 'APR: ' in block[index]:\n",
    "                apr_index = index\n",
    "                break\n",
    "        return [get_single_pair(block[0]), \"\", get_single_tvl(block[1]), apr(block[apr_index]) if apr_index > 1 else 0, where_map[wh] if wh in where_map else wh, network]\n",
    "        \n",
    "    return None\n",
    "\n",
    "\n",
    "def get_pairs(blocks, network):\n",
    "    where = \"\"\n",
    "    pairs = []\n",
    "    for block in blocks:\n",
    "        try:\n",
    "            pair = get_pair_info_from_block(block, where, network)\n",
    "            if len(where) == 0 and pair and len(pair) > 2:\n",
    "                print(block, network)\n",
    "            if pair:\n",
    "                if len(pair) == 1 and pair[0] and len(pair[0]):\n",
    "                    where = pair[0]\n",
    "                else:\n",
    "                    pairs.append(pair)\n",
    "        except Exception:\n",
    "            print(block[0])\n",
    "    return pairs\n",
    "        "
   ]
  },
  {
   "cell_type": "code",
   "execution_count": 9,
   "id": "67d6e7ca",
   "metadata": {},
   "outputs": [],
   "source": [
    "data_dir = 'vfat_tool_data/2021-06-07_set/'\n",
    "ignorable_files = ['.ipynb_checkpoints', \"Yield Farm Manual 6:7 New .xlsx\"]\n",
    "def conver_files_to_one_df(data_dir):\n",
    "    all_pairs = []\n",
    "    files = os.listdir(data_dir)\n",
    "    for file_name in files:\n",
    "        if file_name in ignorable_files:\n",
    "            continue\n",
    "        network = file_name[0:file_name.index(\" \")]\n",
    "        blocks = read_blocks_from_files(f\"{data_dir}{file_name}\")\n",
    "        pairs = get_pairs(blocks, network)\n",
    "        all_pairs.extend(pairs)\n",
    "    return all_pairs"
   ]
  },
  {
   "cell_type": "code",
   "execution_count": 10,
   "id": "db6de91a",
   "metadata": {},
   "outputs": [
    {
     "ename": "UnicodeDecodeError",
     "evalue": "'utf-8' codec can't decode byte 0x9e in position 14: invalid start byte",
     "output_type": "error",
     "traceback": [
      "\u001b[0;31m---------------------------------------------------------------------------\u001b[0m",
      "\u001b[0;31mUnicodeDecodeError\u001b[0m                        Traceback (most recent call last)",
      "\u001b[0;32m<ipython-input-10-673a7f530e90>\u001b[0m in \u001b[0;36m<module>\u001b[0;34m\u001b[0m\n\u001b[0;32m----> 1\u001b[0;31m \u001b[0mpairs\u001b[0m \u001b[0;34m=\u001b[0m \u001b[0mconver_files_to_one_df\u001b[0m\u001b[0;34m(\u001b[0m\u001b[0mdata_dir\u001b[0m\u001b[0;34m)\u001b[0m\u001b[0;34m\u001b[0m\u001b[0;34m\u001b[0m\u001b[0m\n\u001b[0m",
      "\u001b[0;32m<ipython-input-9-e7b0def3ccce>\u001b[0m in \u001b[0;36mconver_files_to_one_df\u001b[0;34m(data_dir)\u001b[0m\n\u001b[1;32m      7\u001b[0m     \u001b[0;32mfor\u001b[0m \u001b[0mfile_name\u001b[0m \u001b[0;32min\u001b[0m \u001b[0mfiles\u001b[0m\u001b[0;34m:\u001b[0m\u001b[0;34m\u001b[0m\u001b[0;34m\u001b[0m\u001b[0m\n\u001b[1;32m      8\u001b[0m         \u001b[0mnetwork\u001b[0m \u001b[0;34m=\u001b[0m \u001b[0mfile_name\u001b[0m\u001b[0;34m[\u001b[0m\u001b[0;36m0\u001b[0m\u001b[0;34m:\u001b[0m\u001b[0mfile_name\u001b[0m\u001b[0;34m.\u001b[0m\u001b[0mindex\u001b[0m\u001b[0;34m(\u001b[0m\u001b[0;34m\" \"\u001b[0m\u001b[0;34m)\u001b[0m\u001b[0;34m]\u001b[0m\u001b[0;34m\u001b[0m\u001b[0;34m\u001b[0m\u001b[0m\n\u001b[0;32m----> 9\u001b[0;31m         \u001b[0mblocks\u001b[0m \u001b[0;34m=\u001b[0m \u001b[0mread_blocks_from_files\u001b[0m\u001b[0;34m(\u001b[0m\u001b[0;34mf\"{data_dir}{file_name}\"\u001b[0m\u001b[0;34m)\u001b[0m\u001b[0;34m\u001b[0m\u001b[0;34m\u001b[0m\u001b[0m\n\u001b[0m\u001b[1;32m     10\u001b[0m         \u001b[0mpairs\u001b[0m \u001b[0;34m=\u001b[0m \u001b[0mget_pairs\u001b[0m\u001b[0;34m(\u001b[0m\u001b[0mblocks\u001b[0m\u001b[0;34m,\u001b[0m \u001b[0mnetwork\u001b[0m\u001b[0;34m)\u001b[0m\u001b[0;34m\u001b[0m\u001b[0;34m\u001b[0m\u001b[0m\n\u001b[1;32m     11\u001b[0m         \u001b[0mall_pairs\u001b[0m\u001b[0;34m.\u001b[0m\u001b[0mextend\u001b[0m\u001b[0;34m(\u001b[0m\u001b[0mpairs\u001b[0m\u001b[0;34m)\u001b[0m\u001b[0;34m\u001b[0m\u001b[0;34m\u001b[0m\u001b[0m\n",
      "\u001b[0;32m<ipython-input-8-2a459d07ae63>\u001b[0m in \u001b[0;36mread_blocks_from_files\u001b[0;34m(file)\u001b[0m\n\u001b[1;32m      1\u001b[0m \u001b[0;32mdef\u001b[0m \u001b[0mread_blocks_from_files\u001b[0m\u001b[0;34m(\u001b[0m\u001b[0mfile\u001b[0m\u001b[0;34m)\u001b[0m\u001b[0;34m:\u001b[0m\u001b[0;34m\u001b[0m\u001b[0;34m\u001b[0m\u001b[0m\n\u001b[1;32m      2\u001b[0m     \u001b[0mf\u001b[0m \u001b[0;34m=\u001b[0m \u001b[0mopen\u001b[0m\u001b[0;34m(\u001b[0m\u001b[0mfile\u001b[0m\u001b[0;34m)\u001b[0m\u001b[0;34m\u001b[0m\u001b[0;34m\u001b[0m\u001b[0m\n\u001b[0;32m----> 3\u001b[0;31m     \u001b[0mlines\u001b[0m \u001b[0;34m=\u001b[0m \u001b[0mf\u001b[0m\u001b[0;34m.\u001b[0m\u001b[0mreadlines\u001b[0m\u001b[0;34m(\u001b[0m\u001b[0;34m)\u001b[0m\u001b[0;34m\u001b[0m\u001b[0;34m\u001b[0m\u001b[0m\n\u001b[0m\u001b[1;32m      4\u001b[0m     \u001b[0mblocks\u001b[0m \u001b[0;34m=\u001b[0m \u001b[0;34m[\u001b[0m\u001b[0;34m]\u001b[0m\u001b[0;34m\u001b[0m\u001b[0;34m\u001b[0m\u001b[0m\n\u001b[1;32m      5\u001b[0m     \u001b[0mblock\u001b[0m \u001b[0;34m=\u001b[0m \u001b[0;34m[\u001b[0m\u001b[0;34m]\u001b[0m\u001b[0;34m\u001b[0m\u001b[0;34m\u001b[0m\u001b[0m\n",
      "\u001b[0;32m/usr/lib/python3.8/codecs.py\u001b[0m in \u001b[0;36mdecode\u001b[0;34m(self, input, final)\u001b[0m\n\u001b[1;32m    320\u001b[0m         \u001b[0;31m# decode input (taking the buffer into account)\u001b[0m\u001b[0;34m\u001b[0m\u001b[0;34m\u001b[0m\u001b[0;34m\u001b[0m\u001b[0m\n\u001b[1;32m    321\u001b[0m         \u001b[0mdata\u001b[0m \u001b[0;34m=\u001b[0m \u001b[0mself\u001b[0m\u001b[0;34m.\u001b[0m\u001b[0mbuffer\u001b[0m \u001b[0;34m+\u001b[0m \u001b[0minput\u001b[0m\u001b[0;34m\u001b[0m\u001b[0;34m\u001b[0m\u001b[0m\n\u001b[0;32m--> 322\u001b[0;31m         \u001b[0;34m(\u001b[0m\u001b[0mresult\u001b[0m\u001b[0;34m,\u001b[0m \u001b[0mconsumed\u001b[0m\u001b[0;34m)\u001b[0m \u001b[0;34m=\u001b[0m \u001b[0mself\u001b[0m\u001b[0;34m.\u001b[0m\u001b[0m_buffer_decode\u001b[0m\u001b[0;34m(\u001b[0m\u001b[0mdata\u001b[0m\u001b[0;34m,\u001b[0m \u001b[0mself\u001b[0m\u001b[0;34m.\u001b[0m\u001b[0merrors\u001b[0m\u001b[0;34m,\u001b[0m \u001b[0mfinal\u001b[0m\u001b[0;34m)\u001b[0m\u001b[0;34m\u001b[0m\u001b[0;34m\u001b[0m\u001b[0m\n\u001b[0m\u001b[1;32m    323\u001b[0m         \u001b[0;31m# keep undecoded input until the next call\u001b[0m\u001b[0;34m\u001b[0m\u001b[0;34m\u001b[0m\u001b[0;34m\u001b[0m\u001b[0m\n\u001b[1;32m    324\u001b[0m         \u001b[0mself\u001b[0m\u001b[0;34m.\u001b[0m\u001b[0mbuffer\u001b[0m \u001b[0;34m=\u001b[0m \u001b[0mdata\u001b[0m\u001b[0;34m[\u001b[0m\u001b[0mconsumed\u001b[0m\u001b[0;34m:\u001b[0m\u001b[0;34m]\u001b[0m\u001b[0;34m\u001b[0m\u001b[0;34m\u001b[0m\u001b[0m\n",
      "\u001b[0;31mUnicodeDecodeError\u001b[0m: 'utf-8' codec can't decode byte 0x9e in position 14: invalid start byte"
     ]
    }
   ],
   "source": [
    "pairs = conver_files_to_one_df(data_dir)"
   ]
  },
  {
   "cell_type": "code",
   "execution_count": null,
   "id": "5a874fc8",
   "metadata": {},
   "outputs": [],
   "source": [
    "pair_df = pd.DataFrame(pairs, columns=['pair1', 'pair2', 'tvl', 'apr', 'where', 'network'])\n",
    "pair_df['apy'] = np.nan"
   ]
  },
  {
   "cell_type": "code",
   "execution_count": null,
   "id": "68eabacc",
   "metadata": {},
   "outputs": [],
   "source": [
    "pairs"
   ]
  },
  {
   "cell_type": "code",
   "execution_count": null,
   "id": "ce8abeb1",
   "metadata": {},
   "outputs": [],
   "source": [
    "pair_df"
   ]
  },
  {
   "cell_type": "code",
   "execution_count": null,
   "id": "f279ca72",
   "metadata": {},
   "outputs": [],
   "source": [
    "pair_df[(pair_df['pair1'] == 'uUNICLY') | (pair_df['pair2'] == 'uARTBLOCKS')]"
   ]
  },
  {
   "cell_type": "code",
   "execution_count": null,
   "id": "1982a258",
   "metadata": {},
   "outputs": [],
   "source": [
    "sheet_pairs_df = pd.read_csv('MATIC 6_1 New.csv')\n",
    "eth_sheet_pairs_df = pd.read_csv('eth_net_pairs.csv')\n",
    "eth_sheet_pairs_df.columns=['pair1', 'pair2', 'tvl', 'where', 'apr']\n",
    "eth_sheet_pairs_df['apy'] = np.nan\n",
    "eth_sheet_pairs_df['network'] = 'ETH'\n",
    "sheet_pairs_df = sheet_pairs_df.append(eth_sheet_pairs_df)"
   ]
  },
  {
   "cell_type": "code",
   "execution_count": null,
   "id": "2f13c14e",
   "metadata": {},
   "outputs": [],
   "source": [
    "# sheet_pairs_df"
   ]
  },
  {
   "cell_type": "code",
   "execution_count": null,
   "id": "b69890d6",
   "metadata": {},
   "outputs": [],
   "source": [
    "def update_apr(apr):\n",
    "    apr = f\"{apr}\".replace(\"%\", \"\")\n",
    "    if len(apr) == 0 or \"nan\" == apr:\n",
    "        return np.nan\n",
    "    else:\n",
    "        return apr"
   ]
  },
  {
   "cell_type": "code",
   "execution_count": null,
   "id": "b5568cac",
   "metadata": {},
   "outputs": [],
   "source": [
    "pair_df = pair_df.append(sheet_pairs_df).reset_index(drop=True)\n",
    "pair_df['apr'] = pair_df['apr'].apply(lambda x: update_apr(x))\n",
    "pair_df['pair1'] = pair_df['pair1'].apply(lambda x: sm[x.strip()] if x.strip() in sm else x.strip())\n",
    "pair_df['pair2'] = pair_df['pair2'].apply(lambda x: sm[x.strip()] if x.strip() in sm else x.strip())"
   ]
  },
  {
   "cell_type": "code",
   "execution_count": null,
   "id": "960ccdbc",
   "metadata": {},
   "outputs": [],
   "source": [
    "pair_df"
   ]
  },
  {
   "cell_type": "code",
   "execution_count": null,
   "id": "fbf08166",
   "metadata": {},
   "outputs": [],
   "source": [
    "# pair_df['apr'].unique().tolist()"
   ]
  },
  {
   "cell_type": "code",
   "execution_count": null,
   "id": "1ae4efb1",
   "metadata": {},
   "outputs": [],
   "source": [
    "def convert_apr_to_apy(pair_df):\n",
    "    tmp_df = pair_df[pair_df['apy'].isna()]\n",
    "    print(tmp_df.shape)\n",
    "    for index, row in tmp_df.iterrows():\n",
    "        apr = row['apr']\n",
    "        if apr:\n",
    "            apr = float(apr.replace(',',''))\n",
    "        else:\n",
    "            apr = 0\n",
    "        try:\n",
    "            pair_df.loc[index, 'apy'] = ((1+(apr/100)/365)**365-1)*100\n",
    "        except:\n",
    "            pair_df.loc[index, 'apy'] = np.nan\n",
    "    return\n",
    "            \n",
    "def convert_apy_to_apr(pair_df):\n",
    "    tmp_df = pair_df[(pair_df['apr'].isnull())]\n",
    "    print(tmp_df.shape)\n",
    "    for index, row in tmp_df.iterrows():\n",
    "        apy = row['apy']\n",
    "        if apy:\n",
    "            apy = float(apy.replace(',',''))\n",
    "        else:\n",
    "            apy = 0\n",
    "        try:\n",
    "            pair_df.loc[index, 'apr'] = (((1+(apy/100))**(1/365)-1)*365)*100\n",
    "        except:\n",
    "            pair_df.loc[index, 'apr'] = np.nan\n",
    "    return\n",
    "\n",
    "\n",
    "convert_apr_to_apy(pair_df)\n",
    "convert_apy_to_apr(pair_df)"
   ]
  },
  {
   "cell_type": "code",
   "execution_count": null,
   "id": "98be5e8d",
   "metadata": {},
   "outputs": [],
   "source": [
    "pair_df[pair_df['apy'].isna()]"
   ]
  },
  {
   "cell_type": "code",
   "execution_count": null,
   "id": "4b9d6912",
   "metadata": {},
   "outputs": [],
   "source": [
    "pair_df[pair_df['pair1'] == 'AZUKI']"
   ]
  },
  {
   "cell_type": "code",
   "execution_count": null,
   "id": "0479746b",
   "metadata": {},
   "outputs": [],
   "source": [
    "single_piar_df = pair_df[pair_df['pair2'] == \"\"].copy()\n",
    "double_coin_pair_df = pair_df[pair_df['pair2'] != \"\"].copy()\n",
    "tmp_df = double_coin_pair_df.copy()"
   ]
  },
  {
   "cell_type": "code",
   "execution_count": null,
   "id": "7d2635ab",
   "metadata": {},
   "outputs": [],
   "source": [
    "single_piar_df"
   ]
  },
  {
   "cell_type": "code",
   "execution_count": null,
   "id": "3fbc2406",
   "metadata": {},
   "outputs": [],
   "source": [
    "double_coin_pair_df"
   ]
  },
  {
   "cell_type": "code",
   "execution_count": null,
   "id": "ac6f7501",
   "metadata": {},
   "outputs": [],
   "source": [
    "tmp_df"
   ]
  },
  {
   "cell_type": "code",
   "execution_count": null,
   "id": "90f7b055",
   "metadata": {},
   "outputs": [],
   "source": [
    "tmp_df['tmp'] = tmp_df['pair1']\n",
    "tmp_df['pair1'] = tmp_df['pair2']\n",
    "tmp_df['pair2'] = tmp_df['tmp']\n",
    "del tmp_df['tmp']"
   ]
  },
  {
   "cell_type": "code",
   "execution_count": null,
   "id": "0e0329e2",
   "metadata": {},
   "outputs": [],
   "source": [
    "double_coin_pair_df.append(tmp_df).sort_values(['pair1', 'pair2']).reset_index(drop=True)"
   ]
  },
  {
   "cell_type": "code",
   "execution_count": null,
   "id": "8870af00",
   "metadata": {},
   "outputs": [],
   "source": [
    "pair_df = double_coin_pair_df.append(tmp_df).sort_values(['pair1', 'pair2']).reset_index(drop=True)\n",
    "pair_df = single_piar_df.append(pair_df).sort_values(['pair1', 'pair2']).reset_index(drop=True)"
   ]
  },
  {
   "cell_type": "code",
   "execution_count": null,
   "id": "4275f4a2",
   "metadata": {},
   "outputs": [],
   "source": [
    "pair_df"
   ]
  },
  {
   "cell_type": "code",
   "execution_count": null,
   "id": "1e838023",
   "metadata": {},
   "outputs": [],
   "source": [
    "pair_df = pair_df.drop_duplicates()"
   ]
  },
  {
   "cell_type": "code",
   "execution_count": null,
   "id": "f8f2ccad",
   "metadata": {},
   "outputs": [],
   "source": [
    "pair_df['dex'] = pair_df['where']\n",
    "del pair_df['where']"
   ]
  },
  {
   "cell_type": "code",
   "execution_count": null,
   "id": "ca8aadb5",
   "metadata": {},
   "outputs": [],
   "source": [
    "pair_df.to_csv('vfat_tools_data.csv')"
   ]
  },
  {
   "cell_type": "code",
   "execution_count": null,
   "id": "8a4eb616",
   "metadata": {},
   "outputs": [],
   "source": [
    "pair_df['dex'].unique().tolist()"
   ]
  },
  {
   "cell_type": "code",
   "execution_count": null,
   "id": "8c75406e",
   "metadata": {},
   "outputs": [],
   "source": [
    "pair_df[pair_df['pair1'] == 'ETH']"
   ]
  },
  {
   "cell_type": "code",
   "execution_count": null,
   "id": "2bc607f0",
   "metadata": {},
   "outputs": [],
   "source": [
    "pair_df['apr'].unique().tolist()"
   ]
  },
  {
   "cell_type": "code",
   "execution_count": null,
   "id": "ba5b0dd8",
   "metadata": {},
   "outputs": [],
   "source": [
    "pair_df"
   ]
  },
  {
   "cell_type": "code",
   "execution_count": null,
   "id": "df37a517",
   "metadata": {},
   "outputs": [],
   "source": []
  }
 ],
 "metadata": {
  "kernelspec": {
   "display_name": "Python 3",
   "language": "python",
   "name": "python3"
  },
  "language_info": {
   "codemirror_mode": {
    "name": "ipython",
    "version": 3
   },
   "file_extension": ".py",
   "mimetype": "text/x-python",
   "name": "python",
   "nbconvert_exporter": "python",
   "pygments_lexer": "ipython3",
   "version": "3.8.5"
  }
 },
 "nbformat": 4,
 "nbformat_minor": 5
}
