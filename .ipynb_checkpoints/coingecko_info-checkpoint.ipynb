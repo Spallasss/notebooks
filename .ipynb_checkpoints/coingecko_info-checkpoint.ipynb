{
 "cells": [
  {
   "cell_type": "code",
   "execution_count": 34,
   "id": "6c87d091",
   "metadata": {},
   "outputs": [],
   "source": [
    "import requests\n",
    "import pandas as pd\n",
    "from datetime import datetime\n",
    "import pymysql\n",
    "import numpy as np\n",
    "import time\n",
    "import traceback2\n",
    "from pycoingecko import CoinGeckoAPI"
   ]
  },
  {
   "cell_type": "code",
   "execution_count": 2,
   "id": "fe9fcb4e",
   "metadata": {},
   "outputs": [],
   "source": [
    "from pycoingecko import CoinGeckoAPI\n",
    "cg = CoinGeckoAPI()"
   ]
  },
  {
   "cell_type": "code",
   "execution_count": 8,
   "id": "0cc6b666",
   "metadata": {},
   "outputs": [],
   "source": [
    "def get_coingecko_projects():\n",
    "    data = cg.get_coins_list()\n",
    "    return pd.DataFrame(data)"
   ]
  },
  {
   "cell_type": "code",
   "execution_count": 15,
   "id": "efcb310e",
   "metadata": {},
   "outputs": [],
   "source": [
    "def get_data(market_data, key):\n",
    "    if len(key) == 2:\n",
    "        return market_data[key[0]]['usd'] if key[0] in market_data and market_data[key[0]] else np.nan\n",
    "    elif len(key) == 1:\n",
    "        return market_data[key[0]] if key[0] in market_data else np.nan\n",
    "    else:\n",
    "        return np.nan\n",
    "\n",
    "def get_coin_market_data(coin):\n",
    "    market_data = coin['market_data']\n",
    "    return [\n",
    "        get_data(coin, ['symbol']).upper(),\n",
    "        get_data(coin, ['name']),\n",
    "        get_data(market_data, ['current_price', 'usd']),\n",
    "        get_data(market_data, ['market_cap', 'usd']),\n",
    "        get_data(market_data, ['total_volume', 'usd']),\n",
    "        get_data(market_data, ['circulating_supply']),\n",
    "        get_data(market_data, ['total_supply']),\n",
    "        get_data(market_data, ['max_supply']),\n",
    "        get_data(market_data, ['total_value_locked', 'usd']),\n",
    "        # get_data(market_data, ['fully_diluted_valuation', 'usd']),\n",
    "        # get_data(market_data, ['roi']),\n",
    "    ]\n",
    "\n",
    "def get_coin_data(id):\n",
    "    try:\n",
    "        coin_data = cg.get_coin_by_id(id=id, localization=\"false\", market_data='true', tickers='false', sparkline='false')\n",
    "        return get_coin_market_data(coin_data)\n",
    "    except Exception:\n",
    "        print(traceback2.format_exc())\n",
    "        return []"
   ]
  },
  {
   "cell_type": "code",
   "execution_count": 16,
   "id": "7b59aaff",
   "metadata": {},
   "outputs": [
    {
     "data": {
      "text/plain": [
       "['ZOC',\n",
       " '01coin',\n",
       " 0.00154005,\n",
       " 16395.98,\n",
       " 7482.86,\n",
       " 10646360.834599,\n",
       " 65658824.0,\n",
       " None,\n",
       " nan]"
      ]
     },
     "execution_count": 16,
     "metadata": {},
     "output_type": "execute_result"
    }
   ],
   "source": [
    "get_coin_data(\"01coin\")"
   ]
  },
  {
   "cell_type": "code",
   "execution_count": 31,
   "id": "c73b7b3a",
   "metadata": {},
   "outputs": [],
   "source": [
    "def pull_top_n_coins_market_data(n):\n",
    "    crawled_ids = get_distinct_crawled_coin_ids()\n",
    "    print(crawled_ids)\n",
    "    top_n_ids = get_top_n_coins_market_data(n)\n",
    "    print(top_n_ids)\n",
    "    ids = join_symbols(crawled_ids, top_n_ids)\n",
    "    top_n_ids = ids\n",
    "    historical_data_dfs = pd.DataFrame(columns=['date', 'mcap', 'volume', 'id', 'name', 'symbol'])\n",
    "    rows = []\n",
    "    time.sleep(1)\n",
    "    index = 0\n",
    "    batch = 3\n",
    "    while index < len(top_n_ids):\n",
    "        ids = top_n_ids[index: index + batch]\n",
    "        for id in ids:\n",
    "            print(f\"{index}. Pulling market data: {id}\")\n",
    "            time.sleep(1)\n",
    "            row = get_coin_data(id)\n",
    "            if row and len(row):\n",
    "                hist_df = get_coin_historical_chart_data(id, row[1], row[0])\n",
    "                historical_data_dfs = historical_data_dfs.append(hist_df)\n",
    "            rows.append(row)\n",
    "        index = index + batch\n",
    "        time.sleep(1)\n",
    "    df = pd.DataFrame(rows, columns=['symbol', 'name', 'price', 'mrk_cap', 'volume', 'circulating_supply', 'total_supply', 'max_supply', 'tvl'])\n",
    "    df['date'] = get_todays_date()\n",
    "    return [df, historical_data_dfs]\n",
    "\n",
    "def get_coin_market_data(ids):\n",
    "    rows = []\n",
    "    ids = ids[-5:]\n",
    "    print(ids)\n",
    "    for id in ids:\n",
    "        print(id)\n",
    "        row = get_coin_data(id)\n",
    "        rows.append(row)\n",
    "        time.sleep(1)\n",
    "    df = pd.DataFrame(rows, columns=['symbol', 'name', 'price', 'mrk_cap', 'volume', 'circulating_supply', 'total_supply', 'max_supply', 'tvl'])\n",
    "    return df\n",
    "    "
   ]
  },
  {
   "cell_type": "code",
   "execution_count": 32,
   "id": "30e2f8eb",
   "metadata": {},
   "outputs": [],
   "source": [
    "projects_df = get_coingecko_projects()"
   ]
  },
  {
   "cell_type": "code",
   "execution_count": 35,
   "id": "7206f19a",
   "metadata": {},
   "outputs": [
    {
     "name": "stdout",
     "output_type": "stream",
     "text": [
      "['zyro', 'zytara-dollar', 'zyx', 'zzz-finance', 'zzz-finance-v2']\n",
      "zyro\n",
      "Traceback (most recent call last):\n",
      "  File \"<ipython-input-15-55db7fa120bb>\", line 28, in get_coin_data\n",
      "  File \"<ipython-input-31-c12a8a946e54>\", line 31, in get_coin_market_data\n",
      "TypeError: unhashable type: 'slice'\n",
      "\n",
      "zytara-dollar\n",
      "Traceback (most recent call last):\n",
      "  File \"<ipython-input-15-55db7fa120bb>\", line 28, in get_coin_data\n",
      "  File \"<ipython-input-31-c12a8a946e54>\", line 31, in get_coin_market_data\n",
      "TypeError: unhashable type: 'slice'\n",
      "\n",
      "zyx\n",
      "Traceback (most recent call last):\n",
      "  File \"<ipython-input-15-55db7fa120bb>\", line 28, in get_coin_data\n",
      "  File \"<ipython-input-31-c12a8a946e54>\", line 31, in get_coin_market_data\n",
      "TypeError: unhashable type: 'slice'\n",
      "\n",
      "zzz-finance\n",
      "Traceback (most recent call last):\n",
      "  File \"<ipython-input-15-55db7fa120bb>\", line 28, in get_coin_data\n",
      "  File \"<ipython-input-31-c12a8a946e54>\", line 31, in get_coin_market_data\n",
      "TypeError: unhashable type: 'slice'\n",
      "\n",
      "zzz-finance-v2\n",
      "Traceback (most recent call last):\n",
      "  File \"<ipython-input-15-55db7fa120bb>\", line 28, in get_coin_data\n",
      "  File \"<ipython-input-31-c12a8a946e54>\", line 31, in get_coin_market_data\n",
      "TypeError: unhashable type: 'slice'\n",
      "\n"
     ]
    },
    {
     "ename": "ValueError",
     "evalue": "9 columns passed, passed data had 0 columns",
     "output_type": "error",
     "traceback": [
      "\u001b[0;31m---------------------------------------------------------------------------\u001b[0m",
      "\u001b[0;31mAssertionError\u001b[0m                            Traceback (most recent call last)",
      "\u001b[0;32m~/.local/lib/python3.8/site-packages/pandas/core/internals/construction.py\u001b[0m in \u001b[0;36m_list_to_arrays\u001b[0;34m(data, columns, coerce_float, dtype)\u001b[0m\n\u001b[1;32m    567\u001b[0m     \u001b[0;32mtry\u001b[0m\u001b[0;34m:\u001b[0m\u001b[0;34m\u001b[0m\u001b[0;34m\u001b[0m\u001b[0m\n\u001b[0;32m--> 568\u001b[0;31m         \u001b[0mcolumns\u001b[0m \u001b[0;34m=\u001b[0m \u001b[0m_validate_or_indexify_columns\u001b[0m\u001b[0;34m(\u001b[0m\u001b[0mcontent\u001b[0m\u001b[0;34m,\u001b[0m \u001b[0mcolumns\u001b[0m\u001b[0;34m)\u001b[0m\u001b[0;34m\u001b[0m\u001b[0;34m\u001b[0m\u001b[0m\n\u001b[0m\u001b[1;32m    569\u001b[0m         \u001b[0mresult\u001b[0m \u001b[0;34m=\u001b[0m \u001b[0m_convert_object_array\u001b[0m\u001b[0;34m(\u001b[0m\u001b[0mcontent\u001b[0m\u001b[0;34m,\u001b[0m \u001b[0mdtype\u001b[0m\u001b[0;34m=\u001b[0m\u001b[0mdtype\u001b[0m\u001b[0;34m,\u001b[0m \u001b[0mcoerce_float\u001b[0m\u001b[0;34m=\u001b[0m\u001b[0mcoerce_float\u001b[0m\u001b[0;34m)\u001b[0m\u001b[0;34m\u001b[0m\u001b[0;34m\u001b[0m\u001b[0m\n",
      "\u001b[0;32m~/.local/lib/python3.8/site-packages/pandas/core/internals/construction.py\u001b[0m in \u001b[0;36m_validate_or_indexify_columns\u001b[0;34m(content, columns)\u001b[0m\n\u001b[1;32m    691\u001b[0m             \u001b[0;31m# caller's responsibility to check for this...\u001b[0m\u001b[0;34m\u001b[0m\u001b[0;34m\u001b[0m\u001b[0;34m\u001b[0m\u001b[0m\n\u001b[0;32m--> 692\u001b[0;31m             raise AssertionError(\n\u001b[0m\u001b[1;32m    693\u001b[0m                 \u001b[0;34mf\"{len(columns)} columns passed, passed data had \"\u001b[0m\u001b[0;34m\u001b[0m\u001b[0;34m\u001b[0m\u001b[0m\n",
      "\u001b[0;31mAssertionError\u001b[0m: 9 columns passed, passed data had 0 columns",
      "\nThe above exception was the direct cause of the following exception:\n",
      "\u001b[0;31mValueError\u001b[0m                                Traceback (most recent call last)",
      "\u001b[0;32m<ipython-input-35-32d4e8f50cd2>\u001b[0m in \u001b[0;36m<module>\u001b[0;34m\u001b[0m\n\u001b[0;32m----> 1\u001b[0;31m \u001b[0mget_coin_market_data\u001b[0m\u001b[0;34m(\u001b[0m\u001b[0mprojects_df\u001b[0m\u001b[0;34m[\u001b[0m\u001b[0;34m'id'\u001b[0m\u001b[0;34m]\u001b[0m\u001b[0;34m.\u001b[0m\u001b[0mtolist\u001b[0m\u001b[0;34m(\u001b[0m\u001b[0;34m)\u001b[0m\u001b[0;34m)\u001b[0m\u001b[0;34m\u001b[0m\u001b[0;34m\u001b[0m\u001b[0m\n\u001b[0m",
      "\u001b[0;32m<ipython-input-31-c12a8a946e54>\u001b[0m in \u001b[0;36mget_coin_market_data\u001b[0;34m(ids)\u001b[0m\n\u001b[1;32m     36\u001b[0m         \u001b[0mrows\u001b[0m\u001b[0;34m.\u001b[0m\u001b[0mappend\u001b[0m\u001b[0;34m(\u001b[0m\u001b[0mrow\u001b[0m\u001b[0;34m)\u001b[0m\u001b[0;34m\u001b[0m\u001b[0;34m\u001b[0m\u001b[0m\n\u001b[1;32m     37\u001b[0m         \u001b[0mtime\u001b[0m\u001b[0;34m.\u001b[0m\u001b[0msleep\u001b[0m\u001b[0;34m(\u001b[0m\u001b[0;36m1\u001b[0m\u001b[0;34m)\u001b[0m\u001b[0;34m\u001b[0m\u001b[0;34m\u001b[0m\u001b[0m\n\u001b[0;32m---> 38\u001b[0;31m     \u001b[0mdf\u001b[0m \u001b[0;34m=\u001b[0m \u001b[0mpd\u001b[0m\u001b[0;34m.\u001b[0m\u001b[0mDataFrame\u001b[0m\u001b[0;34m(\u001b[0m\u001b[0mrows\u001b[0m\u001b[0;34m,\u001b[0m \u001b[0mcolumns\u001b[0m\u001b[0;34m=\u001b[0m\u001b[0;34m[\u001b[0m\u001b[0;34m'symbol'\u001b[0m\u001b[0;34m,\u001b[0m \u001b[0;34m'name'\u001b[0m\u001b[0;34m,\u001b[0m \u001b[0;34m'price'\u001b[0m\u001b[0;34m,\u001b[0m \u001b[0;34m'mrk_cap'\u001b[0m\u001b[0;34m,\u001b[0m \u001b[0;34m'volume'\u001b[0m\u001b[0;34m,\u001b[0m \u001b[0;34m'circulating_supply'\u001b[0m\u001b[0;34m,\u001b[0m \u001b[0;34m'total_supply'\u001b[0m\u001b[0;34m,\u001b[0m \u001b[0;34m'max_supply'\u001b[0m\u001b[0;34m,\u001b[0m \u001b[0;34m'tvl'\u001b[0m\u001b[0;34m]\u001b[0m\u001b[0;34m)\u001b[0m\u001b[0;34m\u001b[0m\u001b[0;34m\u001b[0m\u001b[0m\n\u001b[0m\u001b[1;32m     39\u001b[0m     \u001b[0;32mreturn\u001b[0m \u001b[0mdf\u001b[0m\u001b[0;34m\u001b[0m\u001b[0;34m\u001b[0m\u001b[0m\n\u001b[1;32m     40\u001b[0m \u001b[0;34m\u001b[0m\u001b[0m\n",
      "\u001b[0;32m~/.local/lib/python3.8/site-packages/pandas/core/frame.py\u001b[0m in \u001b[0;36m__init__\u001b[0;34m(self, data, index, columns, dtype, copy)\u001b[0m\n\u001b[1;32m    568\u001b[0m                     \u001b[0;32mif\u001b[0m \u001b[0mis_named_tuple\u001b[0m\u001b[0;34m(\u001b[0m\u001b[0mdata\u001b[0m\u001b[0;34m[\u001b[0m\u001b[0;36m0\u001b[0m\u001b[0;34m]\u001b[0m\u001b[0;34m)\u001b[0m \u001b[0;32mand\u001b[0m \u001b[0mcolumns\u001b[0m \u001b[0;32mis\u001b[0m \u001b[0;32mNone\u001b[0m\u001b[0;34m:\u001b[0m\u001b[0;34m\u001b[0m\u001b[0;34m\u001b[0m\u001b[0m\n\u001b[1;32m    569\u001b[0m                         \u001b[0mcolumns\u001b[0m \u001b[0;34m=\u001b[0m \u001b[0mdata\u001b[0m\u001b[0;34m[\u001b[0m\u001b[0;36m0\u001b[0m\u001b[0;34m]\u001b[0m\u001b[0;34m.\u001b[0m\u001b[0m_fields\u001b[0m\u001b[0;34m\u001b[0m\u001b[0;34m\u001b[0m\u001b[0m\n\u001b[0;32m--> 570\u001b[0;31m                     \u001b[0marrays\u001b[0m\u001b[0;34m,\u001b[0m \u001b[0mcolumns\u001b[0m \u001b[0;34m=\u001b[0m \u001b[0mto_arrays\u001b[0m\u001b[0;34m(\u001b[0m\u001b[0mdata\u001b[0m\u001b[0;34m,\u001b[0m \u001b[0mcolumns\u001b[0m\u001b[0;34m,\u001b[0m \u001b[0mdtype\u001b[0m\u001b[0;34m=\u001b[0m\u001b[0mdtype\u001b[0m\u001b[0;34m)\u001b[0m\u001b[0;34m\u001b[0m\u001b[0;34m\u001b[0m\u001b[0m\n\u001b[0m\u001b[1;32m    571\u001b[0m                     \u001b[0mcolumns\u001b[0m \u001b[0;34m=\u001b[0m \u001b[0mensure_index\u001b[0m\u001b[0;34m(\u001b[0m\u001b[0mcolumns\u001b[0m\u001b[0;34m)\u001b[0m\u001b[0;34m\u001b[0m\u001b[0;34m\u001b[0m\u001b[0m\n\u001b[1;32m    572\u001b[0m \u001b[0;34m\u001b[0m\u001b[0m\n",
      "\u001b[0;32m~/.local/lib/python3.8/site-packages/pandas/core/internals/construction.py\u001b[0m in \u001b[0;36mto_arrays\u001b[0;34m(data, columns, coerce_float, dtype)\u001b[0m\n\u001b[1;32m    526\u001b[0m         \u001b[0;32mreturn\u001b[0m \u001b[0;34m[\u001b[0m\u001b[0;34m]\u001b[0m\u001b[0;34m,\u001b[0m \u001b[0;34m[\u001b[0m\u001b[0;34m]\u001b[0m  \u001b[0;31m# columns if columns is not None else []\u001b[0m\u001b[0;34m\u001b[0m\u001b[0;34m\u001b[0m\u001b[0m\n\u001b[1;32m    527\u001b[0m     \u001b[0;32mif\u001b[0m \u001b[0misinstance\u001b[0m\u001b[0;34m(\u001b[0m\u001b[0mdata\u001b[0m\u001b[0;34m[\u001b[0m\u001b[0;36m0\u001b[0m\u001b[0;34m]\u001b[0m\u001b[0;34m,\u001b[0m \u001b[0;34m(\u001b[0m\u001b[0mlist\u001b[0m\u001b[0;34m,\u001b[0m \u001b[0mtuple\u001b[0m\u001b[0;34m)\u001b[0m\u001b[0;34m)\u001b[0m\u001b[0;34m:\u001b[0m\u001b[0;34m\u001b[0m\u001b[0;34m\u001b[0m\u001b[0m\n\u001b[0;32m--> 528\u001b[0;31m         \u001b[0;32mreturn\u001b[0m \u001b[0m_list_to_arrays\u001b[0m\u001b[0;34m(\u001b[0m\u001b[0mdata\u001b[0m\u001b[0;34m,\u001b[0m \u001b[0mcolumns\u001b[0m\u001b[0;34m,\u001b[0m \u001b[0mcoerce_float\u001b[0m\u001b[0;34m=\u001b[0m\u001b[0mcoerce_float\u001b[0m\u001b[0;34m,\u001b[0m \u001b[0mdtype\u001b[0m\u001b[0;34m=\u001b[0m\u001b[0mdtype\u001b[0m\u001b[0;34m)\u001b[0m\u001b[0;34m\u001b[0m\u001b[0;34m\u001b[0m\u001b[0m\n\u001b[0m\u001b[1;32m    529\u001b[0m     \u001b[0;32melif\u001b[0m \u001b[0misinstance\u001b[0m\u001b[0;34m(\u001b[0m\u001b[0mdata\u001b[0m\u001b[0;34m[\u001b[0m\u001b[0;36m0\u001b[0m\u001b[0;34m]\u001b[0m\u001b[0;34m,\u001b[0m \u001b[0mabc\u001b[0m\u001b[0;34m.\u001b[0m\u001b[0mMapping\u001b[0m\u001b[0;34m)\u001b[0m\u001b[0;34m:\u001b[0m\u001b[0;34m\u001b[0m\u001b[0;34m\u001b[0m\u001b[0m\n\u001b[1;32m    530\u001b[0m         return _list_of_dict_to_arrays(\n",
      "\u001b[0;32m~/.local/lib/python3.8/site-packages/pandas/core/internals/construction.py\u001b[0m in \u001b[0;36m_list_to_arrays\u001b[0;34m(data, columns, coerce_float, dtype)\u001b[0m\n\u001b[1;32m    569\u001b[0m         \u001b[0mresult\u001b[0m \u001b[0;34m=\u001b[0m \u001b[0m_convert_object_array\u001b[0m\u001b[0;34m(\u001b[0m\u001b[0mcontent\u001b[0m\u001b[0;34m,\u001b[0m \u001b[0mdtype\u001b[0m\u001b[0;34m=\u001b[0m\u001b[0mdtype\u001b[0m\u001b[0;34m,\u001b[0m \u001b[0mcoerce_float\u001b[0m\u001b[0;34m=\u001b[0m\u001b[0mcoerce_float\u001b[0m\u001b[0;34m)\u001b[0m\u001b[0;34m\u001b[0m\u001b[0;34m\u001b[0m\u001b[0m\n\u001b[1;32m    570\u001b[0m     \u001b[0;32mexcept\u001b[0m \u001b[0mAssertionError\u001b[0m \u001b[0;32mas\u001b[0m \u001b[0me\u001b[0m\u001b[0;34m:\u001b[0m\u001b[0;34m\u001b[0m\u001b[0;34m\u001b[0m\u001b[0m\n\u001b[0;32m--> 571\u001b[0;31m         \u001b[0;32mraise\u001b[0m \u001b[0mValueError\u001b[0m\u001b[0;34m(\u001b[0m\u001b[0me\u001b[0m\u001b[0;34m)\u001b[0m \u001b[0;32mfrom\u001b[0m \u001b[0me\u001b[0m\u001b[0;34m\u001b[0m\u001b[0;34m\u001b[0m\u001b[0m\n\u001b[0m\u001b[1;32m    572\u001b[0m     \u001b[0;32mreturn\u001b[0m \u001b[0mresult\u001b[0m\u001b[0;34m,\u001b[0m \u001b[0mcolumns\u001b[0m\u001b[0;34m\u001b[0m\u001b[0;34m\u001b[0m\u001b[0m\n\u001b[1;32m    573\u001b[0m \u001b[0;34m\u001b[0m\u001b[0m\n",
      "\u001b[0;31mValueError\u001b[0m: 9 columns passed, passed data had 0 columns"
     ]
    }
   ],
   "source": [
    "get_coin_market_data(projects_df['id'].tolist())"
   ]
  },
  {
   "cell_type": "code",
   "execution_count": null,
   "id": "83d67712",
   "metadata": {},
   "outputs": [],
   "source": []
  }
 ],
 "metadata": {
  "kernelspec": {
   "display_name": "Python 3",
   "language": "python",
   "name": "python3"
  },
  "language_info": {
   "codemirror_mode": {
    "name": "ipython",
    "version": 3
   },
   "file_extension": ".py",
   "mimetype": "text/x-python",
   "name": "python",
   "nbconvert_exporter": "python",
   "pygments_lexer": "ipython3",
   "version": "3.8.10"
  }
 },
 "nbformat": 4,
 "nbformat_minor": 5
}
