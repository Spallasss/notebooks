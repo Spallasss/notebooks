{
 "cells": [
  {
   "cell_type": "code",
   "execution_count": 11,
   "id": "purple-tobacco",
   "metadata": {},
   "outputs": [],
   "source": [
    "import dropbox"
   ]
  },
  {
   "cell_type": "code",
   "execution_count": 29,
   "id": "saved-grove",
   "metadata": {},
   "outputs": [],
   "source": [
    "\n",
    "ACCESS_TOKEN=\"sl.AttmTAzUuJNW_qdHdKom_uJDug5ylyFnfpZYUlk_CtZW-xcEtBT87Z-6cLEJLZOH1N8kSsfV1MgbKwO5f6P2j8f7lGyGoV33oIq31EcSxGj7h7KLOtH8Ax5po38IqulTTqRGS38\"\n"
   ]
  },
  {
   "cell_type": "code",
   "execution_count": 54,
   "id": "transsexual-imagination",
   "metadata": {},
   "outputs": [],
   "source": [
    "dbx = dropbox.Dropbox(ACCESS_TOKEN, timeout=None)"
   ]
  },
  {
   "cell_type": "code",
   "execution_count": 24,
   "id": "turned-sapphire",
   "metadata": {},
   "outputs": [
    {
     "data": {
      "text/plain": [
       "<dropbox.dropbox_client.Dropbox at 0x108703550>"
      ]
     },
     "execution_count": 24,
     "metadata": {},
     "output_type": "execute_result"
    }
   ],
   "source": [
    "dbx"
   ]
  },
  {
   "cell_type": "code",
   "execution_count": 17,
   "id": "external-timer",
   "metadata": {},
   "outputs": [
    {
     "data": {
      "text/plain": [
       "FullAccount(account_id='dbid:AAAqc1NLxqaib9X9o-1K17YmL6cZsyLAkpo', account_type=AccountType('basic', None), country='IN', disabled=False, email='raisanjeet07@gmail.com', email_verified=True, is_paired=False, locale='en', name=Name(abbreviated_name='SR', display_name='sanjeet rai', familiar_name='sanjeet', given_name='sanjeet', surname='rai'), profile_photo_url='https://dl-web.dropbox.com/account_photo/get/dbaphid%3AAABmXkrJ5flrmsljKgFvsweJPWKs0Gse3hk?size=128x128&vers=1574188755033', referral_link='https://www.dropbox.com/referrals/AAAoQ6SaTx3edVCsNVIrXd_ewaq7KwoqZlQ?src=app9-10294640', root_info=UserRootInfo(home_namespace_id='6672861776', root_namespace_id='6672861776'), team=NOT_SET, team_member_id=NOT_SET)"
      ]
     },
     "execution_count": 17,
     "metadata": {},
     "output_type": "execute_result"
    }
   ],
   "source": [
    "dbx.users_get_current_account()"
   ]
  },
  {
   "cell_type": "code",
   "execution_count": 37,
   "id": "committed-colon",
   "metadata": {},
   "outputs": [],
   "source": [
    "for entry in dbx.files_list_folder('').entries:\n",
    "    print(entry.name)"
   ]
  },
  {
   "cell_type": "code",
   "execution_count": 20,
   "id": "administrative-flesh",
   "metadata": {},
   "outputs": [],
   "source": [
    "??dbx"
   ]
  },
  {
   "cell_type": "code",
   "execution_count": 38,
   "id": "hired-matrix",
   "metadata": {},
   "outputs": [
    {
     "data": {
      "text/plain": [
       "ListFolderResult(cursor='AAHG5wUTyna3XAcTxnvCAtzzfHqRHjb8a_BpETtk578TK5Zh8bAcRxZw2VfmwbaxsOkDkqG7IC9cF35mkNK9696Bvhin3CDV7pIwoRKZzwPqYgkbPcFotIArDrReB-85GzYhCfNsW_HZ4TZkcgct7q9RjOaWIb8ELEunCfrDG0BQFsIYTUlOlidRLeNaPo_Lhug', entries=[], has_more=False)"
      ]
     },
     "execution_count": 38,
     "metadata": {},
     "output_type": "execute_result"
    }
   ],
   "source": [
    "dbx.files_list_folder('')"
   ]
  },
  {
   "cell_type": "code",
   "execution_count": 55,
   "id": "equivalent-globe",
   "metadata": {},
   "outputs": [
    {
     "data": {
      "text/plain": [
       "FileMetadata(client_modified=datetime.datetime(2021, 3, 26, 12, 18, 9), content_hash='0d6c4ef311affdd9a7f2eef18f5810e0c8415410f1e1ec2df2e60b710e4a908c', export_info=NOT_SET, file_lock_info=NOT_SET, has_explicit_shared_members=NOT_SET, id='id:aIAHeosV8zAAAAAAAAAAKA', is_downloadable=True, media_info=NOT_SET, name='master_data_22_March.csv', parent_shared_folder_id=NOT_SET, path_display='/master_data_22_March.csv', path_lower='/master_data_22_march.csv', property_groups=NOT_SET, rev='015be6f8672b7b2000000022d0209a0', server_modified=datetime.datetime(2021, 3, 26, 12, 18, 9), sharing_info=NOT_SET, size=7808304, symlink_info=NOT_SET)"
      ]
     },
     "execution_count": 55,
     "metadata": {},
     "output_type": "execute_result"
    }
   ],
   "source": [
    "f = open('master_data_22_March.csv', 'rb')\n",
    "dbx.files_upload(f.read(), '/master_data_22_March.csv')"
   ]
  },
  {
   "cell_type": "code",
   "execution_count": 41,
   "id": "weighted-plastic",
   "metadata": {},
   "outputs": [],
   "source": [
    "??dbx.files_upload"
   ]
  },
  {
   "cell_type": "code",
   "execution_count": null,
   "id": "graduate-hygiene",
   "metadata": {},
   "outputs": [],
   "source": []
  }
 ],
 "metadata": {
  "kernelspec": {
   "display_name": ".venv",
   "language": "python",
   "name": ".venv"
  },
  "language_info": {
   "codemirror_mode": {
    "name": "ipython",
    "version": 3
   },
   "file_extension": ".py",
   "mimetype": "text/x-python",
   "name": "python",
   "nbconvert_exporter": "python",
   "pygments_lexer": "ipython3",
   "version": "3.9.1"
  }
 },
 "nbformat": 4,
 "nbformat_minor": 5
}
