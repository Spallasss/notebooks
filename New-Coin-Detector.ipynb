{
 "cells": [
  {
   "cell_type": "code",
   "execution_count": 36,
   "id": "680bd9d2",
   "metadata": {},
   "outputs": [],
   "source": [
    "import pymysql\n",
    "import pandas as pd\n",
    "from datetime import datetime, timedelta"
   ]
  },
  {
   "cell_type": "code",
   "execution_count": 37,
   "id": "11172e17",
   "metadata": {},
   "outputs": [],
   "source": [
    "def __connect__():\n",
    "    db_user = 'coin'\n",
    "    db_password = 'dragonstone#123'\n",
    "    db_name = 'master_data'\n",
    "    db_host = 'localhost'\n",
    "    return pymysql.connect(\n",
    "        unix_socket=None,\n",
    "        host=db_host,\n",
    "        user=db_user,\n",
    "        password=db_password,\n",
    "        db=db_name,\n",
    "        charset='latin1',\n",
    "        cursorclass=pymysql.cursors.DictCursor)\n",
    "\n",
    "def get_cursor(connection):\n",
    "    if connection is None:\n",
    "        connection = __connect__()\n",
    "    connection.ping(reconnect=True)\n",
    "    return connection.cursor()\n"
   ]
  },
  {
   "cell_type": "code",
   "execution_count": 38,
   "id": "15a7c29d",
   "metadata": {},
   "outputs": [],
   "source": [
    "def get_new_coins(timestamp_dt, data_table, symbol_col, name_col, source):\n",
    "    if symbol_col == name_col:\n",
    "        group_cols = symbol_col\n",
    "    else:\n",
    "        group_cols = f\"{symbol_col},{name_col}\"\n",
    "    sql = f\"\"\"SELECT {symbol_col}, {name_col}, min(timestamp_dt) from \n",
    "            `{data_table}` \n",
    "            where `timestamp_dt` = FROM_UNIXTIME({timestamp_dt}) \n",
    "                and concat({symbol_col}, {name_col}) not in (\n",
    "                    select concat({symbol_col}, {name_col}) \n",
    "                    from {data_table} \n",
    "                    where `timestamp_dt` < FROM_UNIXTIME({timestamp_dt})\n",
    "                )\n",
    "            group by {group_cols};\"\"\"\n",
    "    print(sql)\n",
    "    return pd.read_sql(sql, __connect__())\n",
    "    "
   ]
  },
  {
   "cell_type": "code",
   "execution_count": 46,
   "id": "bf471168",
   "metadata": {},
   "outputs": [],
   "source": [
    "today = datetime.now()\n",
    "today = datetime(today.year, today.month, today.day) + timedelta(days = -2)"
   ]
  },
  {
   "cell_type": "code",
   "execution_count": 47,
   "id": "3f8007cc",
   "metadata": {},
   "outputs": [
    {
     "data": {
      "text/plain": [
       "datetime.datetime(2021, 6, 26, 0, 0)"
      ]
     },
     "execution_count": 47,
     "metadata": {},
     "output_type": "execute_result"
    }
   ],
   "source": [
    "today"
   ]
  },
  {
   "cell_type": "code",
   "execution_count": 50,
   "id": "29fdb6f8",
   "metadata": {},
   "outputs": [
    {
     "name": "stdout",
     "output_type": "stream",
     "text": [
      "SELECT name, name, min(timestamp_dt) from \n",
      "            `tt_coin_metrics_v2` \n",
      "            where `timestamp_dt` = FROM_UNIXTIME(1624665600.0) \n",
      "                and concat(name, name) not in (\n",
      "                    select concat(name, name) \n",
      "                    from tt_coin_metrics_v2 \n",
      "                    where `timestamp_dt` < FROM_UNIXTIME(1624665600.0)\n",
      "                )\n",
      "            group by name;\n"
     ]
    },
    {
     "data": {
      "text/html": [
       "<div>\n",
       "<style scoped>\n",
       "    .dataframe tbody tr th:only-of-type {\n",
       "        vertical-align: middle;\n",
       "    }\n",
       "\n",
       "    .dataframe tbody tr th {\n",
       "        vertical-align: top;\n",
       "    }\n",
       "\n",
       "    .dataframe thead th {\n",
       "        text-align: right;\n",
       "    }\n",
       "</style>\n",
       "<table border=\"1\" class=\"dataframe\">\n",
       "  <thead>\n",
       "    <tr style=\"text-align: right;\">\n",
       "      <th></th>\n",
       "      <th>name</th>\n",
       "      <th>name</th>\n",
       "      <th>min(timestamp_dt)</th>\n",
       "    </tr>\n",
       "  </thead>\n",
       "  <tbody>\n",
       "  </tbody>\n",
       "</table>\n",
       "</div>"
      ],
      "text/plain": [
       "Empty DataFrame\n",
       "Columns: [name, name, min(timestamp_dt)]\n",
       "Index: []"
      ]
     },
     "execution_count": 50,
     "metadata": {},
     "output_type": "execute_result"
    }
   ],
   "source": [
    "get_new_coins(today.timestamp(), 'tt_coin_metrics_v2', 'name', 'name', 'tt')"
   ]
  },
  {
   "cell_type": "code",
   "execution_count": null,
   "id": "bde51c55",
   "metadata": {},
   "outputs": [],
   "source": []
  }
 ],
 "metadata": {
  "kernelspec": {
   "display_name": "Python 3",
   "language": "python",
   "name": "python3"
  },
  "language_info": {
   "codemirror_mode": {
    "name": "ipython",
    "version": 3
   },
   "file_extension": ".py",
   "mimetype": "text/x-python",
   "name": "python",
   "nbconvert_exporter": "python",
   "pygments_lexer": "ipython3",
   "version": "3.8.5"
  }
 },
 "nbformat": 4,
 "nbformat_minor": 5
}
