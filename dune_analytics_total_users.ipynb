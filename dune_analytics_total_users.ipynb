{
 "cells": [
  {
   "cell_type": "code",
   "execution_count": 1,
   "id": "electronic-mainland",
   "metadata": {},
   "outputs": [],
   "source": [
    "import requests\n",
    "import json\n",
    "import pandas as pd\n",
    "import numpy as np\n",
    "import pymysql\n",
    "import traceback2\n",
    "from datetime import datetime"
   ]
  },
  {
   "cell_type": "code",
   "execution_count": 2,
   "id": "average-savannah",
   "metadata": {},
   "outputs": [],
   "source": [
    "url = 'https://explore.duneanalytics.com/api/dashboards/defi-users-over-time'"
   ]
  },
  {
   "cell_type": "code",
   "execution_count": 14,
   "id": "spectacular-status",
   "metadata": {},
   "outputs": [],
   "source": [
    "headers = {'cookie' : 'csrf=k-q3sHfJxgTeA70fbo6zYMcMbpoM_G-kBaeNyeD6vos; auth-refresh=eyJjdHkiOiJKV1QiLCJlbmMiOiJBMjU2R0NNIiwiYWxnIjoiUlNBLU9BRVAifQ.YS-de7eZS2KmPxnmS9LZS3RBjioTKk8-HscM2Wf7MJrDc9gcYi-LMLTUZBohlFcMGn6gVgdrjudlf46WnTlLQ4XxEQuWiSjapHrObJwTvDC8v9EwUMzQ4KZF5oJFiQKHm4kmK1DXboatkTjER8zkhXiNq795FxBlQgUMjocMVw2Cc-f0CFYHUhlJ2S27dUluXK0i3IG8sSz4ouG2yw6kY3N0H88YBIlZEKbzRIY-4f4eusDX6kxy0lNrfYK34Wq93dy--Gj9egHDV4-oVfAjs6yFIC_YzUFQJS43781Zsoasq-UUDqirJZsSVnw60j5eFHbkLAVbb4rEhXlb1rqchw.MDAwlxuSsfr2g2DH.oFLRVvaaxqBy2Yu4oXJ68Yb-cEh77IlaYi5C_sFMTdVWUH8Z70BjD_OwO5gTGkdDwb-FAq9QOkOPD65tGq-1dn1cmw1ypz_i4Bzer1q5rFXbCVuzuOXT63_eKUt9OtBufXPThWtAioeFGWojlb3xx6xJSpfytdQovRIRUqCrSJ-80WMZYQ324yMrTt4oMeJbeGfcy5X9-_5-nhMBicpsDudKqCkvkJk6ldUneIjoEOCeZnwW2Dtr9kYtDRewNlQG3-B2E2LwwVsm-T8fFKxRp0C5vOW_EzaarJnWV6bfFCFTxf1oNQkD3pLm_vX4RjIsaR4EoLcoyxnW-P7q5si25ve1C2a-JXOB3E62ECCnb5ORmb6bLuV2NuL_uIjeEvMsVHfa3iSo9tnQ3OB05iFiL2gyOJ914LPPKAhOmUMDesT7dz3WL3qP86yVIE8I46PvIuSDIPDKoCwpUL3XzoJa0fKT4qdi_fOaekK-OdlkJTbga2-ukobJGEmlNAx1-uG_9iGp1aiRbEW55dmlkhL7bwXUNmurjVWx8ytTnTInD7T7EsJTUh4ZDUwvuu84sa-2gqsRvA5bbnrcGkAn_oq4GNosJZW7bpmmbEUHZPXp8cUT4T5ddb-nc1obggtM2FFJroCcqPa0peNa_VYxhGnbfDGn12HbMzNkTXXSgqpy0yo8NfuYnPKTqB5aS9ZOfSThCxZVdkJ3zODHVy4UOUVJ2l47XrZ6Ijp8AUy4r9eGQEc3KElCMaktAgwzbZNBzUv4B6Wl_IWlMSJ_0tkMuSaEmt13SBDdk4zAQ5TCza8A6EDO_ZQ8djsdxicXNDahhQl_gXbKSjXNA8mE5APUkFh6Mrx4LkHbhSaKztOrQl1KnLxJb_cuJ0dRbw6ixJOvPWCZ8xrUSSgB2-pZ1oSCvjYqoznJDxDytkZq8-i8-5u4GZKvZWIxoZz7i5voI76OG5Z5By84Dq0S0g30aMfsdTGON3yhszSg0R9huhw_LmcNMiD0387RIBx-N-24iWqv_MBL4ZSZGNG7m4ZlwPMcEP6lPkvnqXeIl2IT5Oa6Iag0AA77UTRjJeP6OzyHsvYiZ_ZrWdkALDH-ieU76WcS5gj9prKgTbYE6ccJDov_7OS6GpWxwEaQkvTGJPAx73YvesMdNMqDeGFR6NV9oDspaDq2c6FBcyV5DPef85zJS6HqOFsOXlCJSa7v249ikfHZrG-haIyz-okfPGJbZnrhQHQtD4FprpureGBnDGn4Zln6XdTX42ReTTiFp7w3MwNaxE35PmQ.EzHv6bzGem3MjzkMl4h00Q; auth-user=iDefi'}"
   ]
  },
  {
   "cell_type": "code",
   "execution_count": 15,
   "id": "alternative-lexington",
   "metadata": {},
   "outputs": [
    {
     "name": "stdout",
     "output_type": "stream",
     "text": [
      "<Response [200]>\n"
     ]
    }
   ],
   "source": [
    "data = requests.get(url, headers = headers)\n",
    "print(data)"
   ]
  },
  {
   "cell_type": "code",
   "execution_count": 16,
   "id": "accurate-throw",
   "metadata": {},
   "outputs": [
    {
     "ename": "JSONDecodeError",
     "evalue": "Expecting value: line 1 column 1 (char 0)",
     "output_type": "error",
     "traceback": [
      "\u001b[0;31m---------------------------------------------------------------------------\u001b[0m",
      "\u001b[0;31mJSONDecodeError\u001b[0m                           Traceback (most recent call last)",
      "\u001b[0;32m<ipython-input-16-4c88b3639c84>\u001b[0m in \u001b[0;36m<module>\u001b[0;34m\u001b[0m\n\u001b[0;32m----> 1\u001b[0;31m \u001b[0mresponse\u001b[0m \u001b[0;34m=\u001b[0m \u001b[0mdata\u001b[0m\u001b[0;34m.\u001b[0m\u001b[0mjson\u001b[0m\u001b[0;34m(\u001b[0m\u001b[0;34m)\u001b[0m\u001b[0;34m\u001b[0m\u001b[0;34m\u001b[0m\u001b[0m\n\u001b[0m",
      "\u001b[0;32m/Library/Frameworks/Python.framework/Versions/3.9/lib/python3.9/site-packages/requests/models.py\u001b[0m in \u001b[0;36mjson\u001b[0;34m(self, **kwargs)\u001b[0m\n\u001b[1;32m    898\u001b[0m                     \u001b[0;31m# used.\u001b[0m\u001b[0;34m\u001b[0m\u001b[0;34m\u001b[0m\u001b[0;34m\u001b[0m\u001b[0m\n\u001b[1;32m    899\u001b[0m                     \u001b[0;32mpass\u001b[0m\u001b[0;34m\u001b[0m\u001b[0;34m\u001b[0m\u001b[0m\n\u001b[0;32m--> 900\u001b[0;31m         \u001b[0;32mreturn\u001b[0m \u001b[0mcomplexjson\u001b[0m\u001b[0;34m.\u001b[0m\u001b[0mloads\u001b[0m\u001b[0;34m(\u001b[0m\u001b[0mself\u001b[0m\u001b[0;34m.\u001b[0m\u001b[0mtext\u001b[0m\u001b[0;34m,\u001b[0m \u001b[0;34m**\u001b[0m\u001b[0mkwargs\u001b[0m\u001b[0;34m)\u001b[0m\u001b[0;34m\u001b[0m\u001b[0;34m\u001b[0m\u001b[0m\n\u001b[0m\u001b[1;32m    901\u001b[0m \u001b[0;34m\u001b[0m\u001b[0m\n\u001b[1;32m    902\u001b[0m     \u001b[0;34m@\u001b[0m\u001b[0mproperty\u001b[0m\u001b[0;34m\u001b[0m\u001b[0;34m\u001b[0m\u001b[0m\n",
      "\u001b[0;32m/Library/Frameworks/Python.framework/Versions/3.9/lib/python3.9/json/__init__.py\u001b[0m in \u001b[0;36mloads\u001b[0;34m(s, cls, object_hook, parse_float, parse_int, parse_constant, object_pairs_hook, **kw)\u001b[0m\n\u001b[1;32m    344\u001b[0m             \u001b[0mparse_int\u001b[0m \u001b[0;32mis\u001b[0m \u001b[0;32mNone\u001b[0m \u001b[0;32mand\u001b[0m \u001b[0mparse_float\u001b[0m \u001b[0;32mis\u001b[0m \u001b[0;32mNone\u001b[0m \u001b[0;32mand\u001b[0m\u001b[0;34m\u001b[0m\u001b[0;34m\u001b[0m\u001b[0m\n\u001b[1;32m    345\u001b[0m             parse_constant is None and object_pairs_hook is None and not kw):\n\u001b[0;32m--> 346\u001b[0;31m         \u001b[0;32mreturn\u001b[0m \u001b[0m_default_decoder\u001b[0m\u001b[0;34m.\u001b[0m\u001b[0mdecode\u001b[0m\u001b[0;34m(\u001b[0m\u001b[0ms\u001b[0m\u001b[0;34m)\u001b[0m\u001b[0;34m\u001b[0m\u001b[0;34m\u001b[0m\u001b[0m\n\u001b[0m\u001b[1;32m    347\u001b[0m     \u001b[0;32mif\u001b[0m \u001b[0mcls\u001b[0m \u001b[0;32mis\u001b[0m \u001b[0;32mNone\u001b[0m\u001b[0;34m:\u001b[0m\u001b[0;34m\u001b[0m\u001b[0;34m\u001b[0m\u001b[0m\n\u001b[1;32m    348\u001b[0m         \u001b[0mcls\u001b[0m \u001b[0;34m=\u001b[0m \u001b[0mJSONDecoder\u001b[0m\u001b[0;34m\u001b[0m\u001b[0;34m\u001b[0m\u001b[0m\n",
      "\u001b[0;32m/Library/Frameworks/Python.framework/Versions/3.9/lib/python3.9/json/decoder.py\u001b[0m in \u001b[0;36mdecode\u001b[0;34m(self, s, _w)\u001b[0m\n\u001b[1;32m    335\u001b[0m \u001b[0;34m\u001b[0m\u001b[0m\n\u001b[1;32m    336\u001b[0m         \"\"\"\n\u001b[0;32m--> 337\u001b[0;31m         \u001b[0mobj\u001b[0m\u001b[0;34m,\u001b[0m \u001b[0mend\u001b[0m \u001b[0;34m=\u001b[0m \u001b[0mself\u001b[0m\u001b[0;34m.\u001b[0m\u001b[0mraw_decode\u001b[0m\u001b[0;34m(\u001b[0m\u001b[0ms\u001b[0m\u001b[0;34m,\u001b[0m \u001b[0midx\u001b[0m\u001b[0;34m=\u001b[0m\u001b[0m_w\u001b[0m\u001b[0;34m(\u001b[0m\u001b[0ms\u001b[0m\u001b[0;34m,\u001b[0m \u001b[0;36m0\u001b[0m\u001b[0;34m)\u001b[0m\u001b[0;34m.\u001b[0m\u001b[0mend\u001b[0m\u001b[0;34m(\u001b[0m\u001b[0;34m)\u001b[0m\u001b[0;34m)\u001b[0m\u001b[0;34m\u001b[0m\u001b[0;34m\u001b[0m\u001b[0m\n\u001b[0m\u001b[1;32m    338\u001b[0m         \u001b[0mend\u001b[0m \u001b[0;34m=\u001b[0m \u001b[0m_w\u001b[0m\u001b[0;34m(\u001b[0m\u001b[0ms\u001b[0m\u001b[0;34m,\u001b[0m \u001b[0mend\u001b[0m\u001b[0;34m)\u001b[0m\u001b[0;34m.\u001b[0m\u001b[0mend\u001b[0m\u001b[0;34m(\u001b[0m\u001b[0;34m)\u001b[0m\u001b[0;34m\u001b[0m\u001b[0;34m\u001b[0m\u001b[0m\n\u001b[1;32m    339\u001b[0m         \u001b[0;32mif\u001b[0m \u001b[0mend\u001b[0m \u001b[0;34m!=\u001b[0m \u001b[0mlen\u001b[0m\u001b[0;34m(\u001b[0m\u001b[0ms\u001b[0m\u001b[0;34m)\u001b[0m\u001b[0;34m:\u001b[0m\u001b[0;34m\u001b[0m\u001b[0;34m\u001b[0m\u001b[0m\n",
      "\u001b[0;32m/Library/Frameworks/Python.framework/Versions/3.9/lib/python3.9/json/decoder.py\u001b[0m in \u001b[0;36mraw_decode\u001b[0;34m(self, s, idx)\u001b[0m\n\u001b[1;32m    353\u001b[0m             \u001b[0mobj\u001b[0m\u001b[0;34m,\u001b[0m \u001b[0mend\u001b[0m \u001b[0;34m=\u001b[0m \u001b[0mself\u001b[0m\u001b[0;34m.\u001b[0m\u001b[0mscan_once\u001b[0m\u001b[0;34m(\u001b[0m\u001b[0ms\u001b[0m\u001b[0;34m,\u001b[0m \u001b[0midx\u001b[0m\u001b[0;34m)\u001b[0m\u001b[0;34m\u001b[0m\u001b[0;34m\u001b[0m\u001b[0m\n\u001b[1;32m    354\u001b[0m         \u001b[0;32mexcept\u001b[0m \u001b[0mStopIteration\u001b[0m \u001b[0;32mas\u001b[0m \u001b[0merr\u001b[0m\u001b[0;34m:\u001b[0m\u001b[0;34m\u001b[0m\u001b[0;34m\u001b[0m\u001b[0m\n\u001b[0;32m--> 355\u001b[0;31m             \u001b[0;32mraise\u001b[0m \u001b[0mJSONDecodeError\u001b[0m\u001b[0;34m(\u001b[0m\u001b[0;34m\"Expecting value\"\u001b[0m\u001b[0;34m,\u001b[0m \u001b[0ms\u001b[0m\u001b[0;34m,\u001b[0m \u001b[0merr\u001b[0m\u001b[0;34m.\u001b[0m\u001b[0mvalue\u001b[0m\u001b[0;34m)\u001b[0m \u001b[0;32mfrom\u001b[0m \u001b[0;32mNone\u001b[0m\u001b[0;34m\u001b[0m\u001b[0;34m\u001b[0m\u001b[0m\n\u001b[0m\u001b[1;32m    356\u001b[0m         \u001b[0;32mreturn\u001b[0m \u001b[0mobj\u001b[0m\u001b[0;34m,\u001b[0m \u001b[0mend\u001b[0m\u001b[0;34m\u001b[0m\u001b[0;34m\u001b[0m\u001b[0m\n",
      "\u001b[0;31mJSONDecodeError\u001b[0m: Expecting value: line 1 column 1 (char 0)"
     ]
    }
   ],
   "source": [
    "response = data.json()"
   ]
  },
  {
   "cell_type": "code",
   "execution_count": 15,
   "id": "temporal-optimization",
   "metadata": {},
   "outputs": [],
   "source": [
    "widgets = response['widgets']"
   ]
  },
  {
   "cell_type": "code",
   "execution_count": 17,
   "id": "permanent-anderson",
   "metadata": {},
   "outputs": [
    {
     "name": "stdout",
     "output_type": "stream",
     "text": [
      "visualization\n",
      "text\n",
      "created_at\n",
      "updated_at\n",
      "options\n",
      "dashboard_id\n",
      "width\n",
      "id\n"
     ]
    }
   ],
   "source": [
    "widget = widgets[0]\n",
    "for key in widget:\n",
    "    print(key)"
   ]
  },
  {
   "cell_type": "code",
   "execution_count": 23,
   "id": "occupied-pennsylvania",
   "metadata": {},
   "outputs": [
    {
     "data": {
      "text/plain": [
       "4267030"
      ]
     },
     "execution_count": 23,
     "metadata": {},
     "output_type": "execute_result"
    }
   ],
   "source": [
    "widget['visualization']['query']['latest_query_data_id']"
   ]
  },
  {
   "cell_type": "code",
   "execution_count": 21,
   "id": "engaged-suicide",
   "metadata": {},
   "outputs": [
    {
     "data": {
      "text/plain": [
       "'Total 1inch users over time'"
      ]
     },
     "execution_count": 21,
     "metadata": {},
     "output_type": "execute_result"
    }
   ],
   "source": [
    "widget['visualization']['query']['name']"
   ]
  },
  {
   "cell_type": "code",
   "execution_count": 32,
   "id": "aquatic-mississippi",
   "metadata": {},
   "outputs": [],
   "source": [
    "query_name_last_updated_id = []\n",
    "for widget in widgets:\n",
    "    query_name_last_updated_id.append([widget['visualization']['query']['name'],  widget['visualization']['query']['latest_query_data_id'], widget['visualization']['query']['id']])"
   ]
  },
  {
   "cell_type": "code",
   "execution_count": 33,
   "id": "uniform-chair",
   "metadata": {},
   "outputs": [
    {
     "data": {
      "text/plain": [
       "[['Total 1inch users over time', 4267030, 2999],\n",
       " ['Total PoolTogether users over time', 4161707, 4170],\n",
       " ['Total Kyber users over time', 4263532, 2997],\n",
       " ['Total Hegic users over time', 4156521, 13349],\n",
       " ['Total KeeperDAO users over time', 4221605, 18467],\n",
       " ['Total BadgerDAO users over time', 4221150, 18461],\n",
       " ['Total Ren users over time', 4157296, 8492],\n",
       " ['Total Curve users over time', 4263488, 4177],\n",
       " ['Total 0x users over time', 4267023, 2998],\n",
       " ['Total MakerDAO users over time', 4267024, 2951],\n",
       " ['Total Set Protocol users over time', 4219113, 4173],\n",
       " ['Total Aave users over time', 4214188, 2994],\n",
       " ['Total SushiSwap users over time', 4267019, 11519],\n",
       " ['Total Cream users over time', 4111814, 11521],\n",
       " ['Total Bancor users over time', 4263451, 11523],\n",
       " ['Total dYdX users over time', 4267029, 2873],\n",
       " ['Total Harvest Finance users over time', 4121241, 13352],\n",
       " ['Total Balancer users over time', 4263411, 4171],\n",
       " ['Total yearn.finance users over time', 4115794, 7176],\n",
       " ['Total Augur users over time', 4156520, 2949],\n",
       " ['Total InstaDApp users over time', 4016217, 2995],\n",
       " ['Total DeFi users over time', 4241442, 2972],\n",
       " ['Total Nexus Mutual users over time', 4156523, 2964],\n",
       " ['Total Uniswap users over time', 4267050, 2740],\n",
       " ['Total Compound users over time', 4267041, 1010],\n",
       " ['Total Synthetix users over time', 4267038, 2961]]"
      ]
     },
     "execution_count": 33,
     "metadata": {},
     "output_type": "execute_result"
    }
   ],
   "source": [
    "query_name_last_updated_id"
   ]
  },
  {
   "cell_type": "code",
   "execution_count": 52,
   "id": "liberal-journey",
   "metadata": {},
   "outputs": [],
   "source": [
    "def get_df(data, query_name, query_id):\n",
    "    data = data['query_result']['data']['rows']\n",
    "    df = pd.DataFrame(data)\n",
    "    if df.empty:\n",
    "        return df\n",
    "    df.columns = ['date', 'total_users']\n",
    "    df['query_name'] = query_name\n",
    "    df['query_id'] = query_id\n",
    "    return df"
   ]
  },
  {
   "cell_type": "code",
   "execution_count": 53,
   "id": "understood-timeline",
   "metadata": {},
   "outputs": [
    {
     "name": "stdout",
     "output_type": "stream",
     "text": [
      "['Total 1inch users over time', 4267030, 2999]\n",
      "['Total PoolTogether users over time', 4161707, 4170]\n",
      "['Total Kyber users over time', 4263532, 2997]\n",
      "['Total Hegic users over time', 4156521, 13349]\n",
      "['Total KeeperDAO users over time', 4221605, 18467]\n",
      "['Total BadgerDAO users over time', 4221150, 18461]\n",
      "['Total Ren users over time', 4157296, 8492]\n",
      "['Total Curve users over time', 4263488, 4177]\n",
      "['Total 0x users over time', 4267023, 2998]\n",
      "['Total MakerDAO users over time', 4267024, 2951]\n",
      "['Total Set Protocol users over time', 4219113, 4173]\n",
      "['Total Aave users over time', 4214188, 2994]\n",
      "['Total SushiSwap users over time', 4267019, 11519]\n",
      "['Total Cream users over time', 4111814, 11521]\n",
      "['Total Bancor users over time', 4263451, 11523]\n",
      "['Total dYdX users over time', 4267029, 2873]\n",
      "['Total Harvest Finance users over time', 4121241, 13352]\n",
      "['Total Balancer users over time', 4263411, 4171]\n",
      "['Total yearn.finance users over time', 4115794, 7176]\n",
      "['Total Augur users over time', 4156520, 2949]\n",
      "['Total InstaDApp users over time', 4016217, 2995]\n",
      "['Total DeFi users over time', 4241442, 2972]\n",
      "['Total Nexus Mutual users over time', 4156523, 2964]\n",
      "['Total Uniswap users over time', 4267050, 2740]\n",
      "['Total Compound users over time', 4267041, 1010]\n",
      "['Total Synthetix users over time', 4267038, 2961]\n"
     ]
    }
   ],
   "source": [
    "url = 'https://explore.duneanalytics.com/api/query_results/'\n",
    "users_metrics_df = pd.DataFrame\n",
    "for query in query_name_last_updated_id:\n",
    "    latest_query_data_id = query[1]\n",
    "    query_name = query[0]\n",
    "    query_id = query[2]\n",
    "    print(query)\n",
    "    id_url = f\"{url}{latest_query_data_id}\"\n",
    "    query_data = requests.get(id_url, headers = headers).json()\n",
    "    df = get_df(query_data, query_name, query_id)\n",
    "    if users_metrics_df.empty:\n",
    "        users_metrics_df = df\n",
    "    else:\n",
    "        users_metrics_df = users_metrics_df.append(df)"
   ]
  },
  {
   "cell_type": "code",
   "execution_count": 55,
   "id": "hollow-colors",
   "metadata": {},
   "outputs": [
    {
     "data": {
      "text/plain": [
       "array([ 2999,  4170,  2997, 13349, 18467, 18461,  8492,  4177,  2951,\n",
       "        4173,  2994, 11519, 11521, 11523,  2873, 13352,  4171,  7176,\n",
       "        2949,  2995,  2972,  2964,  2740,  1010,  2961])"
      ]
     },
     "execution_count": 55,
     "metadata": {},
     "output_type": "execute_result"
    }
   ],
   "source": [
    "users_metrics_df.query_id.unique()"
   ]
  },
  {
   "cell_type": "code",
   "execution_count": 56,
   "id": "ordered-rugby",
   "metadata": {},
   "outputs": [],
   "source": [
    "users_metrics_df.to_csv('dune_analytics_user_metrics.csv')"
   ]
  },
  {
   "cell_type": "code",
   "execution_count": 58,
   "id": "steady-bench",
   "metadata": {},
   "outputs": [],
   "source": [
    "users_metrics_df['date'] = pd.to_datetime(users_metrics_df['date'])"
   ]
  },
  {
   "cell_type": "code",
   "execution_count": 59,
   "id": "guided-delight",
   "metadata": {},
   "outputs": [
    {
     "data": {
      "text/html": [
       "<div>\n",
       "<style scoped>\n",
       "    .dataframe tbody tr th:only-of-type {\n",
       "        vertical-align: middle;\n",
       "    }\n",
       "\n",
       "    .dataframe tbody tr th {\n",
       "        vertical-align: top;\n",
       "    }\n",
       "\n",
       "    .dataframe thead th {\n",
       "        text-align: right;\n",
       "    }\n",
       "</style>\n",
       "<table border=\"1\" class=\"dataframe\">\n",
       "  <thead>\n",
       "    <tr style=\"text-align: right;\">\n",
       "      <th></th>\n",
       "      <th>date</th>\n",
       "      <th>total_users</th>\n",
       "      <th>query_name</th>\n",
       "      <th>query_id</th>\n",
       "    </tr>\n",
       "  </thead>\n",
       "  <tbody>\n",
       "    <tr>\n",
       "      <th>0</th>\n",
       "      <td>2019-06-03 00:00:00+00:00</td>\n",
       "      <td>1</td>\n",
       "      <td>Total 1inch users over time</td>\n",
       "      <td>2999</td>\n",
       "    </tr>\n",
       "    <tr>\n",
       "      <th>1</th>\n",
       "      <td>2019-06-04 00:00:00+00:00</td>\n",
       "      <td>5</td>\n",
       "      <td>Total 1inch users over time</td>\n",
       "      <td>2999</td>\n",
       "    </tr>\n",
       "    <tr>\n",
       "      <th>2</th>\n",
       "      <td>2019-06-07 00:00:00+00:00</td>\n",
       "      <td>13</td>\n",
       "      <td>Total 1inch users over time</td>\n",
       "      <td>2999</td>\n",
       "    </tr>\n",
       "    <tr>\n",
       "      <th>3</th>\n",
       "      <td>2019-06-08 00:00:00+00:00</td>\n",
       "      <td>14</td>\n",
       "      <td>Total 1inch users over time</td>\n",
       "      <td>2999</td>\n",
       "    </tr>\n",
       "    <tr>\n",
       "      <th>4</th>\n",
       "      <td>2019-06-09 00:00:00+00:00</td>\n",
       "      <td>18</td>\n",
       "      <td>Total 1inch users over time</td>\n",
       "      <td>2999</td>\n",
       "    </tr>\n",
       "    <tr>\n",
       "      <th>...</th>\n",
       "      <td>...</td>\n",
       "      <td>...</td>\n",
       "      <td>...</td>\n",
       "      <td>...</td>\n",
       "    </tr>\n",
       "    <tr>\n",
       "      <th>832</th>\n",
       "      <td>2021-02-25 00:00:00+00:00</td>\n",
       "      <td>15821</td>\n",
       "      <td>Total Synthetix users over time</td>\n",
       "      <td>2961</td>\n",
       "    </tr>\n",
       "    <tr>\n",
       "      <th>833</th>\n",
       "      <td>2021-02-26 00:00:00+00:00</td>\n",
       "      <td>15850</td>\n",
       "      <td>Total Synthetix users over time</td>\n",
       "      <td>2961</td>\n",
       "    </tr>\n",
       "    <tr>\n",
       "      <th>834</th>\n",
       "      <td>2021-02-27 00:00:00+00:00</td>\n",
       "      <td>15877</td>\n",
       "      <td>Total Synthetix users over time</td>\n",
       "      <td>2961</td>\n",
       "    </tr>\n",
       "    <tr>\n",
       "      <th>835</th>\n",
       "      <td>2021-02-28 00:00:00+00:00</td>\n",
       "      <td>15914</td>\n",
       "      <td>Total Synthetix users over time</td>\n",
       "      <td>2961</td>\n",
       "    </tr>\n",
       "    <tr>\n",
       "      <th>836</th>\n",
       "      <td>2021-03-01 00:00:00+00:00</td>\n",
       "      <td>15938</td>\n",
       "      <td>Total Synthetix users over time</td>\n",
       "      <td>2961</td>\n",
       "    </tr>\n",
       "  </tbody>\n",
       "</table>\n",
       "<p>13236 rows × 4 columns</p>\n",
       "</div>"
      ],
      "text/plain": [
       "                         date  total_users                       query_name  \\\n",
       "0   2019-06-03 00:00:00+00:00            1      Total 1inch users over time   \n",
       "1   2019-06-04 00:00:00+00:00            5      Total 1inch users over time   \n",
       "2   2019-06-07 00:00:00+00:00           13      Total 1inch users over time   \n",
       "3   2019-06-08 00:00:00+00:00           14      Total 1inch users over time   \n",
       "4   2019-06-09 00:00:00+00:00           18      Total 1inch users over time   \n",
       "..                        ...          ...                              ...   \n",
       "832 2021-02-25 00:00:00+00:00        15821  Total Synthetix users over time   \n",
       "833 2021-02-26 00:00:00+00:00        15850  Total Synthetix users over time   \n",
       "834 2021-02-27 00:00:00+00:00        15877  Total Synthetix users over time   \n",
       "835 2021-02-28 00:00:00+00:00        15914  Total Synthetix users over time   \n",
       "836 2021-03-01 00:00:00+00:00        15938  Total Synthetix users over time   \n",
       "\n",
       "     query_id  \n",
       "0        2999  \n",
       "1        2999  \n",
       "2        2999  \n",
       "3        2999  \n",
       "4        2999  \n",
       "..        ...  \n",
       "832      2961  \n",
       "833      2961  \n",
       "834      2961  \n",
       "835      2961  \n",
       "836      2961  \n",
       "\n",
       "[13236 rows x 4 columns]"
      ]
     },
     "execution_count": 59,
     "metadata": {},
     "output_type": "execute_result"
    }
   ],
   "source": [
    "users_metrics_df"
   ]
  },
  {
   "cell_type": "code",
   "execution_count": null,
   "id": "returning-sample",
   "metadata": {},
   "outputs": [],
   "source": []
  }
 ],
 "metadata": {
  "kernelspec": {
   "display_name": "Python 3",
   "language": "python",
   "name": "python3"
  },
  "language_info": {
   "codemirror_mode": {
    "name": "ipython",
    "version": 3
   },
   "file_extension": ".py",
   "mimetype": "text/x-python",
   "name": "python",
   "nbconvert_exporter": "python",
   "pygments_lexer": "ipython3",
   "version": "3.9.1"
  }
 },
 "nbformat": 4,
 "nbformat_minor": 5
}
