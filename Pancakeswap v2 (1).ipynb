{
 "cells": [
  {
   "cell_type": "code",
   "execution_count": 1,
   "metadata": {},
   "outputs": [],
   "source": [
    "from selenium import webdriver\n",
    "import time\n",
    "from bs4 import BeautifulSoup as soup\n",
    "import pandas as pd\n",
    "from selenium.webdriver.common.keys import Keys\n",
    "import  re\n",
    "from webdriver_manager.chrome import ChromeDriverManager"
   ]
  },
  {
   "cell_type": "code",
   "execution_count": null,
   "metadata": {},
   "outputs": [],
   "source": []
  },
  {
   "cell_type": "code",
   "execution_count": 2,
   "metadata": {},
   "outputs": [
    {
     "name": "stderr",
     "output_type": "stream",
     "text": [
      "\n",
      "\n",
      "====== WebDriver manager ======\n",
      "Current google-chrome version is 90.0.4430\n",
      "Get LATEST driver version for 90.0.4430\n",
      "Driver [/home/ubuntu/.wdm/drivers/chromedriver/linux64/90.0.4430.24/chromedriver] found in cache\n"
     ]
    }
   ],
   "source": [
    "options = webdriver.ChromeOptions()\n",
    "options.add_argument('--ignore-certificate-errors')\n",
    "#options.add_argument('--incognito')\n",
    "options.add_argument('--headless')\n",
    "options.add_argument(\"--window-size=1920,1200\");\n",
    "options.add_argument(\"start-maximized\")\n",
    "options.add_experimental_option(\"excludeSwitches\", [\"enable-automation\"])\n",
    "options.add_experimental_option('useAutomationExtension', False)\n",
    "options.add_argument(\"--disable-blink-features\")\n",
    "options.add_argument(\"--disable-blink-features=AutomationControlled\")\n",
    "browser = webdriver.Chrome(\"chromedriver\", options=options)\n",
    "browser = webdriver.Chrome(ChromeDriverManager().install(), options=options)\n",
    "\n",
    "# IE_path = 'D:\\selds\\IEDriver\\IEDriverServer'\n",
    "# options = webdriver.IeOptions()\n",
    "# browser = webdriver.Ie(IE_path, options=options)"
   ]
  },
  {
   "cell_type": "code",
   "execution_count": 3,
   "metadata": {},
   "outputs": [],
   "source": [
    "def extract_data(page_source):\n",
    "    df_c =  pd.DataFrame(columns = ['name','earned', 'apr', 'liquidity', 'multiplier'])\n",
    "    \n",
    "    page_soup = soup(page_source, \"html.parser\")\n",
    "    table = page_soup.findAll(\"table\")#, {\"class\": \"sc-hRMXGO hbbpxV\"})\n",
    "    #heads = table[0].thead.tr.findAll(\"th\")\n",
    "    rows =  table[0].tbody.findAll(\"tr\")\n",
    "    for row in rows: \n",
    "        divs = row.findAll(\"div\", {\"color\": \"text\"})\n",
    "        name = divs[0].text\n",
    "        #name\n",
    "        earned = row.find_all(\"span\")[0].text\n",
    "        #earned\n",
    "        apr = row.find_all(text=re.compile('%'))[0]\n",
    "        #apr\n",
    "        liq = divs[1].text\n",
    "        #liq\n",
    "        mul = row.find_all(text=re.compile('x'))[0]\n",
    "        #mul\n",
    "        #print(f'{name} {earned} {apr} {liq} {mul}')\n",
    "        df_c.at[len(df_c)] = [name,earned,apr,liq,mul]\n",
    "    return df_c"
   ]
  },
  {
   "cell_type": "code",
   "execution_count": null,
   "metadata": {},
   "outputs": [
    {
     "name": "stdout",
     "output_type": "stream",
     "text": [
      "100\n",
      "126861\n",
      "235895\n",
      "345103\n",
      "454342\n",
      "509020\n",
      "618279\n",
      "709409\n",
      "709549\n",
      "709546\n",
      "709549\n",
      "709548\n",
      "709548\n",
      "709551\n",
      "709552\n",
      "709552\n",
      "709548\n",
      "709548\n",
      "709549\n",
      "709556\n",
      "709561\n",
      "709561\n",
      "709561\n",
      "709554\n",
      "709560\n",
      "709559\n",
      "709559\n",
      "709556\n",
      "709554\n",
      "709557\n",
      "709557\n",
      "709552\n",
      "709557\n",
      "709554\n",
      "709552\n",
      "709552\n",
      "709552\n",
      "709550\n",
      "709550\n",
      "709548\n",
      "709548\n",
      "709557\n",
      "709558\n",
      "709548\n",
      "709548\n",
      "709548\n",
      "709549\n",
      "709550\n",
      "709550\n",
      "709557\n",
      "709554\n",
      "709553\n",
      "709553\n",
      "709563\n",
      "709556\n",
      "709557\n",
      "709558\n",
      "709558\n",
      "709553\n",
      "709555\n",
      "709553\n",
      "709553\n",
      "709554\n",
      "709554\n",
      "709552\n",
      "709552\n",
      "709552\n",
      "709548\n",
      "709548\n",
      "709548\n",
      "709554\n",
      "709554\n",
      "709557\n",
      "709559\n",
      "709559\n",
      "709555\n",
      "709553\n",
      "709553\n",
      "709556\n",
      "709554\n",
      "709557\n",
      "709557\n",
      "709557\n",
      "709554\n",
      "709554\n",
      "709554\n",
      "709557\n",
      "709557\n",
      "709559\n",
      "709557\n",
      "709557\n",
      "709557\n",
      "709558\n",
      "709558\n",
      "709552\n",
      "709556\n",
      "709553\n",
      "709562\n",
      "709562\n",
      "709565\n",
      "709564\n",
      "709564\n",
      "709554\n",
      "709560\n",
      "709558\n",
      "709557\n",
      "709557\n",
      "709548\n",
      "709543\n",
      "709543\n",
      "709557\n",
      "709561\n",
      "709553\n",
      "709555\n"
     ]
    }
   ],
   "source": [
    "browser.get(\"https://pancakeswap.finance/farms\")\n",
    "time.sleep(5)\n",
    "prev_len = 0\n",
    "curr_len = 100\n",
    "count = 0\n",
    "while count<5:\n",
    "    print(curr_len)\n",
    "    time.sleep(3)\n",
    "    page_source = browser.page_source\n",
    "    #df = extract_data(page_source)\n",
    "    time.sleep(3)\n",
    "    #print(df)\n",
    "    body = browser.find_element_by_css_selector('body')\n",
    "    body.send_keys(Keys.PAGE_DOWN)\n",
    "    time.sleep(1)\n",
    "    body.send_keys(Keys.PAGE_DOWN)\n",
    "    curr_len = len(page_source)\n",
    "    if curr_len == prev_len:\n",
    "        count = count+1\n",
    "    else:\n",
    "        count = 0\n",
    "    prev_len = curr_len"
   ]
  },
  {
   "cell_type": "code",
   "execution_count": null,
   "metadata": {},
   "outputs": [],
   "source": [
    "page_source = browser.page_source\n",
    "df = extract_data(page_source)\n",
    "df"
   ]
  },
  {
   "cell_type": "code",
   "execution_count": null,
   "metadata": {},
   "outputs": [],
   "source": [
    "df.to_csv('Pancakeswap_Farms.csv',index=None)"
   ]
  },
  {
   "cell_type": "code",
   "execution_count": null,
   "metadata": {},
   "outputs": [],
   "source": [
    "browser.close()"
   ]
  },
  {
   "cell_type": "code",
   "execution_count": null,
   "metadata": {},
   "outputs": [],
   "source": []
  },
  {
   "cell_type": "code",
   "execution_count": null,
   "metadata": {},
   "outputs": [],
   "source": []
  },
  {
   "cell_type": "code",
   "execution_count": null,
   "metadata": {},
   "outputs": [],
   "source": [
    "# page_soup = soup(page_source, \"html.parser\")\n",
    "# table = page_soup.findAll(\"table\")#, {\"class\": \"sc-hRMXGO hbbpxV\"})\n",
    "# #heads = table[0].thead.tr.findAll(\"th\")\n",
    "# rows =  table[0].tbody.findAll(\"tr\")\n",
    "# row = rows[0]\n",
    "# print(soup.prettify(rows))"
   ]
  },
  {
   "cell_type": "code",
   "execution_count": null,
   "metadata": {},
   "outputs": [],
   "source": []
  },
  {
   "cell_type": "code",
   "execution_count": null,
   "metadata": {},
   "outputs": [],
   "source": []
  },
  {
   "cell_type": "code",
   "execution_count": null,
   "metadata": {},
   "outputs": [],
   "source": []
  },
  {
   "cell_type": "code",
   "execution_count": null,
   "metadata": {},
   "outputs": [],
   "source": []
  },
  {
   "cell_type": "code",
   "execution_count": null,
   "metadata": {},
   "outputs": [],
   "source": []
  }
 ],
 "metadata": {
  "kernelspec": {
   "display_name": "Python 3",
   "language": "python",
   "name": "python3"
  },
  "language_info": {
   "codemirror_mode": {
    "name": "ipython",
    "version": 3
   },
   "file_extension": ".py",
   "mimetype": "text/x-python",
   "name": "python",
   "nbconvert_exporter": "python",
   "pygments_lexer": "ipython3",
   "version": "3.8.5"
  }
 },
 "nbformat": 4,
 "nbformat_minor": 4
}
